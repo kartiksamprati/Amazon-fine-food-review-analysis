{
 "cells": [
  {
   "cell_type": "markdown",
   "metadata": {
    "colab_type": "text",
    "id": "cyXEgMWtMQvM"
   },
   "source": [
    "# [1] Amazon Fine Food Reviews Analysis\n",
    "\n",
    "\n",
    "Data Source: https://www.kaggle.com/snap/amazon-fine-food-reviews\n",
    "\n",
    "The Amazon Fine Food Reviews dataset consists of reviews of fine foods from Amazon.<br>\n",
    "\n",
    "Number of reviews: 568,454<br>\n",
    "Number of users: 256,059<br>\n",
    "Number of products: 74,258<br>\n",
    "Timespan: Oct 1999 - Oct 2012<br>\n",
    "Number of Attributes/Columns in data: 10 \n",
    "\n",
    "Attribute Information:\n",
    "\n",
    "1. Id\n",
    "2. ProductId - unique identifier for the product\n",
    "3. UserId - unqiue identifier for the user\n",
    "4. ProfileName\n",
    "5. HelpfulnessNumerator - number of users who found the review helpful\n",
    "6. HelpfulnessDenominator - number of users who indicated whether they found the review helpful or not\n",
    "7. Score - rating between 1 and 5\n",
    "8. Time - timestamp for the review\n",
    "9. Summary - brief summary of the review\n",
    "10. Text - text of the review\n",
    "\n",
    "\n",
    "#### Objective:\n",
    "Given a review, determine whether the review is positive (Rating of 4 or 5) or negative (rating of 1 or 2).\n",
    "\n",
    "<br>\n",
    "[Q] How to determine if a review is positive or negative?<br>\n",
    "<br> \n",
    "[Ans] We could use the Score/Rating. A rating of 4 or 5 could be cosnidered a positive review. A review of 1 or 2 could be considered negative. A review of 3 is nuetral and ignored. This is an approximate and proxy way of determining the polarity (positivity/negativity) of a review.\n",
    "\n",
    "\n"
   ]
  },
  {
   "cell_type": "markdown",
   "metadata": {
    "colab_type": "text",
    "id": "nTN9VK62MQvN"
   },
   "source": [
    "## [7.1] Loading the data\n",
    "\n",
    "The dataset is available in two forms\n",
    "1. .csv file\n",
    "2. SQLite Database\n",
    "\n",
    "In order to load the data, We have used the SQLITE dataset as it easier to query the data and visualise the data efficiently.\n",
    "<br> \n",
    "\n",
    "Here as we only want to get the global sentiment of the recommendations (positive or negative), we will purposefully ignore all Scores equal to 3. If the score id above 3, then the recommendation wil be set to \"positive\". Otherwise, it will be set to \"negative\"."
   ]
  },
  {
   "cell_type": "code",
   "execution_count": 1,
   "metadata": {
    "colab": {},
    "colab_type": "code",
    "id": "vXnuoQYEMQvO"
   },
   "outputs": [],
   "source": [
    "%matplotlib inline\n",
    "import warnings\n",
    "warnings.filterwarnings(\"ignore\")\n",
    "\n",
    "import sqlite3\n",
    "import pandas as pd\n",
    "import numpy as np\n",
    "import nltk\n",
    "import string\n",
    "import matplotlib.pyplot as plt\n",
    "import seaborn as sns\n",
    "from sklearn.feature_extraction.text import TfidfTransformer\n",
    "from sklearn.feature_extraction.text import TfidfVectorizer\n",
    "\n",
    "from sklearn.feature_extraction.text import CountVectorizer\n",
    "from sklearn.metrics import confusion_matrix\n",
    "from sklearn import metrics\n",
    "from sklearn.metrics import roc_curve, auc\n",
    "from nltk.stem.porter import PorterStemmer\n",
    "\n",
    "import re\n",
    "# Tutorial about Python regular expressions: https://pymotw.com/2/re/\n",
    "import string\n",
    "from nltk.corpus import stopwords\n",
    "from nltk.stem import PorterStemmer\n",
    "from nltk.stem.wordnet import WordNetLemmatizer\n",
    "\n",
    "from gensim.models import Word2Vec\n",
    "from gensim.models import KeyedVectors\n",
    "import pickle\n",
    "\n",
    "# tqdm Instantly make your loops show a smart progress meter \n",
    "from tqdm import tqdm\n",
    "import os"
   ]
  },
  {
   "cell_type": "code",
   "execution_count": 2,
   "metadata": {
    "colab": {},
    "colab_type": "code",
    "id": "-lrJx9N9MQvT",
    "scrolled": true
   },
   "outputs": [
    {
     "name": "stdout",
     "output_type": "stream",
     "text": [
      "Number of data points in our data (525814, 10)\n"
     ]
    },
    {
     "data": {
      "text/html": [
       "<div>\n",
       "<style scoped>\n",
       "    .dataframe tbody tr th:only-of-type {\n",
       "        vertical-align: middle;\n",
       "    }\n",
       "\n",
       "    .dataframe tbody tr th {\n",
       "        vertical-align: top;\n",
       "    }\n",
       "\n",
       "    .dataframe thead th {\n",
       "        text-align: right;\n",
       "    }\n",
       "</style>\n",
       "<table border=\"1\" class=\"dataframe\">\n",
       "  <thead>\n",
       "    <tr style=\"text-align: right;\">\n",
       "      <th></th>\n",
       "      <th>Id</th>\n",
       "      <th>ProductId</th>\n",
       "      <th>UserId</th>\n",
       "      <th>ProfileName</th>\n",
       "      <th>HelpfulnessNumerator</th>\n",
       "      <th>HelpfulnessDenominator</th>\n",
       "      <th>Score</th>\n",
       "      <th>Time</th>\n",
       "      <th>Summary</th>\n",
       "      <th>Text</th>\n",
       "    </tr>\n",
       "  </thead>\n",
       "  <tbody>\n",
       "    <tr>\n",
       "      <th>0</th>\n",
       "      <td>1</td>\n",
       "      <td>B001E4KFG0</td>\n",
       "      <td>A3SGXH7AUHU8GW</td>\n",
       "      <td>delmartian</td>\n",
       "      <td>1</td>\n",
       "      <td>1</td>\n",
       "      <td>1</td>\n",
       "      <td>1303862400</td>\n",
       "      <td>Good Quality Dog Food</td>\n",
       "      <td>I have bought several of the Vitality canned d...</td>\n",
       "    </tr>\n",
       "    <tr>\n",
       "      <th>1</th>\n",
       "      <td>2</td>\n",
       "      <td>B00813GRG4</td>\n",
       "      <td>A1D87F6ZCVE5NK</td>\n",
       "      <td>dll pa</td>\n",
       "      <td>0</td>\n",
       "      <td>0</td>\n",
       "      <td>0</td>\n",
       "      <td>1346976000</td>\n",
       "      <td>Not as Advertised</td>\n",
       "      <td>Product arrived labeled as Jumbo Salted Peanut...</td>\n",
       "    </tr>\n",
       "    <tr>\n",
       "      <th>2</th>\n",
       "      <td>3</td>\n",
       "      <td>B000LQOCH0</td>\n",
       "      <td>ABXLMWJIXXAIN</td>\n",
       "      <td>Natalia Corres \"Natalia Corres\"</td>\n",
       "      <td>1</td>\n",
       "      <td>1</td>\n",
       "      <td>1</td>\n",
       "      <td>1219017600</td>\n",
       "      <td>\"Delight\" says it all</td>\n",
       "      <td>This is a confection that has been around a fe...</td>\n",
       "    </tr>\n",
       "    <tr>\n",
       "      <th>3</th>\n",
       "      <td>4</td>\n",
       "      <td>B000UA0QIQ</td>\n",
       "      <td>A395BORC6FGVXV</td>\n",
       "      <td>Karl</td>\n",
       "      <td>3</td>\n",
       "      <td>3</td>\n",
       "      <td>0</td>\n",
       "      <td>1307923200</td>\n",
       "      <td>Cough Medicine</td>\n",
       "      <td>If you are looking for the secret ingredient i...</td>\n",
       "    </tr>\n",
       "    <tr>\n",
       "      <th>4</th>\n",
       "      <td>5</td>\n",
       "      <td>B006K2ZZ7K</td>\n",
       "      <td>A1UQRSCLF8GW1T</td>\n",
       "      <td>Michael D. Bigham \"M. Wassir\"</td>\n",
       "      <td>0</td>\n",
       "      <td>0</td>\n",
       "      <td>1</td>\n",
       "      <td>1350777600</td>\n",
       "      <td>Great taffy</td>\n",
       "      <td>Great taffy at a great price.  There was a wid...</td>\n",
       "    </tr>\n",
       "  </tbody>\n",
       "</table>\n",
       "</div>"
      ],
      "text/plain": [
       "   Id   ProductId          UserId                      ProfileName  \\\n",
       "0   1  B001E4KFG0  A3SGXH7AUHU8GW                       delmartian   \n",
       "1   2  B00813GRG4  A1D87F6ZCVE5NK                           dll pa   \n",
       "2   3  B000LQOCH0   ABXLMWJIXXAIN  Natalia Corres \"Natalia Corres\"   \n",
       "3   4  B000UA0QIQ  A395BORC6FGVXV                             Karl   \n",
       "4   5  B006K2ZZ7K  A1UQRSCLF8GW1T    Michael D. Bigham \"M. Wassir\"   \n",
       "\n",
       "   HelpfulnessNumerator  HelpfulnessDenominator  Score        Time  \\\n",
       "0                     1                       1      1  1303862400   \n",
       "1                     0                       0      0  1346976000   \n",
       "2                     1                       1      1  1219017600   \n",
       "3                     3                       3      0  1307923200   \n",
       "4                     0                       0      1  1350777600   \n",
       "\n",
       "                 Summary                                               Text  \n",
       "0  Good Quality Dog Food  I have bought several of the Vitality canned d...  \n",
       "1      Not as Advertised  Product arrived labeled as Jumbo Salted Peanut...  \n",
       "2  \"Delight\" says it all  This is a confection that has been around a fe...  \n",
       "3         Cough Medicine  If you are looking for the secret ingredient i...  \n",
       "4            Great taffy  Great taffy at a great price.  There was a wid...  "
      ]
     },
     "execution_count": 2,
     "metadata": {},
     "output_type": "execute_result"
    }
   ],
   "source": [
    "\n",
    "# using the SQLite Table to read data.\n",
    "con = sqlite3.connect(\"D:\\\\AAIC\\\\datasetes\\\\amazon-fine-food-reviews\\\\database.sqlite\") \n",
    "#filtering only positive and negative reviews i.e. \n",
    "# not taking into consideration those reviews with Score=3\n",
    "filtered_data = pd.read_sql_query(\"\"\" SELECT * FROM Reviews WHERE Score != 3 \"\"\", con) \n",
    "\n",
    "# Give reviews with Score>3 a positive rating, and reviews with a score<3 a negative rating.\n",
    "def partition(x):\n",
    "    if x < 3:\n",
    "        return 0\n",
    "    return 1\n",
    "\n",
    "#changing reviews with score less than 3 to be negetive and vice-versa\n",
    "actualScore = filtered_data['Score']\n",
    "positiveNegative = actualScore.map(partition) \n",
    "filtered_data['Score'] = positiveNegative\n",
    "print(\"Number of data points in our data\", filtered_data.shape)\n",
    "filtered_data.head(5)\n",
    "\n",
    "\n",
    "\n",
    "\n"
   ]
  },
  {
   "cell_type": "markdown",
   "metadata": {
    "colab_type": "text",
    "id": "CF7NMcGnMQvX"
   },
   "source": [
    "#  Exploratory Data Analysis\n",
    "\n",
    "## [7.1.2] Data Cleaning: Deduplication\n",
    "\n",
    "It is observed (as shown in the table below) that the reviews data had many duplicate entries. Hence it was necessary to remove duplicates in order to get unbiased results for the analysis of the data.  Following is an example:"
   ]
  },
  {
   "cell_type": "code",
   "execution_count": 3,
   "metadata": {
    "colab": {},
    "colab_type": "code",
    "id": "_G5KBj5FMQvY",
    "scrolled": true
   },
   "outputs": [
    {
     "data": {
      "text/html": [
       "<div>\n",
       "<style scoped>\n",
       "    .dataframe tbody tr th:only-of-type {\n",
       "        vertical-align: middle;\n",
       "    }\n",
       "\n",
       "    .dataframe tbody tr th {\n",
       "        vertical-align: top;\n",
       "    }\n",
       "\n",
       "    .dataframe thead th {\n",
       "        text-align: right;\n",
       "    }\n",
       "</style>\n",
       "<table border=\"1\" class=\"dataframe\">\n",
       "  <thead>\n",
       "    <tr style=\"text-align: right;\">\n",
       "      <th></th>\n",
       "      <th>Id</th>\n",
       "      <th>ProductId</th>\n",
       "      <th>UserId</th>\n",
       "      <th>ProfileName</th>\n",
       "      <th>HelpfulnessNumerator</th>\n",
       "      <th>HelpfulnessDenominator</th>\n",
       "      <th>Score</th>\n",
       "      <th>Time</th>\n",
       "      <th>Summary</th>\n",
       "      <th>Text</th>\n",
       "    </tr>\n",
       "  </thead>\n",
       "  <tbody>\n",
       "    <tr>\n",
       "      <th>0</th>\n",
       "      <td>78445</td>\n",
       "      <td>B000HDL1RQ</td>\n",
       "      <td>AR5J8UI46CURR</td>\n",
       "      <td>Geetha Krishnan</td>\n",
       "      <td>2</td>\n",
       "      <td>2</td>\n",
       "      <td>5</td>\n",
       "      <td>1199577600</td>\n",
       "      <td>LOACKER QUADRATINI VANILLA WAFERS</td>\n",
       "      <td>DELICIOUS WAFERS. I FIND THAT EUROPEAN WAFERS ...</td>\n",
       "    </tr>\n",
       "    <tr>\n",
       "      <th>1</th>\n",
       "      <td>138317</td>\n",
       "      <td>B000HDOPYC</td>\n",
       "      <td>AR5J8UI46CURR</td>\n",
       "      <td>Geetha Krishnan</td>\n",
       "      <td>2</td>\n",
       "      <td>2</td>\n",
       "      <td>5</td>\n",
       "      <td>1199577600</td>\n",
       "      <td>LOACKER QUADRATINI VANILLA WAFERS</td>\n",
       "      <td>DELICIOUS WAFERS. I FIND THAT EUROPEAN WAFERS ...</td>\n",
       "    </tr>\n",
       "    <tr>\n",
       "      <th>2</th>\n",
       "      <td>138277</td>\n",
       "      <td>B000HDOPYM</td>\n",
       "      <td>AR5J8UI46CURR</td>\n",
       "      <td>Geetha Krishnan</td>\n",
       "      <td>2</td>\n",
       "      <td>2</td>\n",
       "      <td>5</td>\n",
       "      <td>1199577600</td>\n",
       "      <td>LOACKER QUADRATINI VANILLA WAFERS</td>\n",
       "      <td>DELICIOUS WAFERS. I FIND THAT EUROPEAN WAFERS ...</td>\n",
       "    </tr>\n",
       "    <tr>\n",
       "      <th>3</th>\n",
       "      <td>73791</td>\n",
       "      <td>B000HDOPZG</td>\n",
       "      <td>AR5J8UI46CURR</td>\n",
       "      <td>Geetha Krishnan</td>\n",
       "      <td>2</td>\n",
       "      <td>2</td>\n",
       "      <td>5</td>\n",
       "      <td>1199577600</td>\n",
       "      <td>LOACKER QUADRATINI VANILLA WAFERS</td>\n",
       "      <td>DELICIOUS WAFERS. I FIND THAT EUROPEAN WAFERS ...</td>\n",
       "    </tr>\n",
       "    <tr>\n",
       "      <th>4</th>\n",
       "      <td>155049</td>\n",
       "      <td>B000PAQ75C</td>\n",
       "      <td>AR5J8UI46CURR</td>\n",
       "      <td>Geetha Krishnan</td>\n",
       "      <td>2</td>\n",
       "      <td>2</td>\n",
       "      <td>5</td>\n",
       "      <td>1199577600</td>\n",
       "      <td>LOACKER QUADRATINI VANILLA WAFERS</td>\n",
       "      <td>DELICIOUS WAFERS. I FIND THAT EUROPEAN WAFERS ...</td>\n",
       "    </tr>\n",
       "  </tbody>\n",
       "</table>\n",
       "</div>"
      ],
      "text/plain": [
       "       Id   ProductId         UserId      ProfileName  HelpfulnessNumerator  \\\n",
       "0   78445  B000HDL1RQ  AR5J8UI46CURR  Geetha Krishnan                     2   \n",
       "1  138317  B000HDOPYC  AR5J8UI46CURR  Geetha Krishnan                     2   \n",
       "2  138277  B000HDOPYM  AR5J8UI46CURR  Geetha Krishnan                     2   \n",
       "3   73791  B000HDOPZG  AR5J8UI46CURR  Geetha Krishnan                     2   \n",
       "4  155049  B000PAQ75C  AR5J8UI46CURR  Geetha Krishnan                     2   \n",
       "\n",
       "   HelpfulnessDenominator  Score        Time  \\\n",
       "0                       2      5  1199577600   \n",
       "1                       2      5  1199577600   \n",
       "2                       2      5  1199577600   \n",
       "3                       2      5  1199577600   \n",
       "4                       2      5  1199577600   \n",
       "\n",
       "                             Summary  \\\n",
       "0  LOACKER QUADRATINI VANILLA WAFERS   \n",
       "1  LOACKER QUADRATINI VANILLA WAFERS   \n",
       "2  LOACKER QUADRATINI VANILLA WAFERS   \n",
       "3  LOACKER QUADRATINI VANILLA WAFERS   \n",
       "4  LOACKER QUADRATINI VANILLA WAFERS   \n",
       "\n",
       "                                                Text  \n",
       "0  DELICIOUS WAFERS. I FIND THAT EUROPEAN WAFERS ...  \n",
       "1  DELICIOUS WAFERS. I FIND THAT EUROPEAN WAFERS ...  \n",
       "2  DELICIOUS WAFERS. I FIND THAT EUROPEAN WAFERS ...  \n",
       "3  DELICIOUS WAFERS. I FIND THAT EUROPEAN WAFERS ...  \n",
       "4  DELICIOUS WAFERS. I FIND THAT EUROPEAN WAFERS ...  "
      ]
     },
     "execution_count": 3,
     "metadata": {},
     "output_type": "execute_result"
    }
   ],
   "source": [
    "display= pd.read_sql_query(\"\"\"\n",
    "SELECT *\n",
    "FROM Reviews\n",
    "WHERE Score != 3 AND UserId=\"AR5J8UI46CURR\"\n",
    "ORDER BY ProductID\n",
    "\"\"\", con)\n",
    "display.head()"
   ]
  },
  {
   "cell_type": "markdown",
   "metadata": {
    "colab_type": "text",
    "id": "95Aa3bAYMQvb"
   },
   "source": [
    "As can be seen above the same user has multiple reviews of the with the same values for HelpfulnessNumerator, HelpfulnessDenominator, Score, Time, Summary and Text  and on doing analysis it was found that <br>\n",
    "<br> \n",
    "ProductId=B000HDOPZG was Loacker Quadratini Vanilla Wafer Cookies, 8.82-Ounce Packages (Pack of 8)<br>\n",
    "<br> \n",
    "ProductId=B000HDL1RQ was Loacker Quadratini Lemon Wafer Cookies, 8.82-Ounce Packages (Pack of 8) and so on<br>\n",
    "\n",
    "It was inferred after analysis that reviews with same parameters other than ProductId belonged to the same product just having different flavour or quantity. Hence in order to reduce redundancy it was decided to eliminate the rows having same parameters.<br>\n",
    "\n",
    "The method used for the same was that we first sort the data according to ProductId and then just keep the first similar product review and delelte the others. for eg. in the above just the review for ProductId=B000HDL1RQ remains. This method ensures that there is only one representative for each product and deduplication without sorting would lead to possibility of different representatives still existing for the same product."
   ]
  },
  {
   "cell_type": "code",
   "execution_count": 3,
   "metadata": {
    "colab": {},
    "colab_type": "code",
    "id": "0wUj2BDzMQvc"
   },
   "outputs": [
    {
     "name": "stdout",
     "output_type": "stream",
     "text": [
      "            Id   ProductId          UserId  \\\n",
      "138706  150524  0006641040   ACITT7DI6IDDL   \n",
      "138688  150506  0006641040  A2IW4PEEKO2R0U   \n",
      "138689  150507  0006641040  A1S4A3IQ2MU7V4   \n",
      "138690  150508  0006641040     AZGXZ2UUK6X   \n",
      "138691  150509  0006641040  A3CMRKGE0P909G   \n",
      "138693  150511  0006641040  A1C9K534BCI9GO   \n",
      "138694  150512  0006641040  A1DJXZA5V5FFVA   \n",
      "138695  150513  0006641040   ASH0DZQQF6AIZ   \n",
      "138696  150514  0006641040   A2ONB6ZA292PA   \n",
      "138697  150515  0006641040  A2RTT81R6Y3R7X   \n",
      "138687  150505  0006641040  A2PTSM496CF40Z   \n",
      "138698  150516  0006641040  A3OI7ZGH6WZJ5G   \n",
      "138700  150518  0006641040   AK1L4EJBA23JF   \n",
      "138701  150519  0006641040  A12HY5OZ2QNK4N   \n",
      "138702  150520  0006641040   ADBFSA9KTQANE   \n",
      "138703  150521  0006641040  A3RMCRB2NDTDYP   \n",
      "138704  150522  0006641040  A1S3C5OFU508P3   \n",
      "138705  150523  0006641040  A2P4F2UO0UMP8C   \n",
      "138707  150525  0006641040  A2QID6VCFTY51R   \n",
      "138708  150526  0006641040  A3E9QZFE9KXH8J   \n",
      "138709  150529  0006641040   A25ACLV5KPB4W   \n",
      "138699  150517  0006641040   ABW4IC5G5G8B5   \n",
      "138686  150504  0006641040   AQEYF1AXARWJZ   \n",
      "138692  150510  0006641040   AM1MNZMYMS7D8   \n",
      "138680  150498  0006641040  A3SJWISOCP31TR   \n",
      "138677  150494  0006641040   AYZ0PR5QZROD1   \n",
      "138678  150496  0006641040  A3KKR87BJ0C595   \n",
      "138685  150503  0006641040  A3R5XMPFU8YZ4D   \n",
      "138684  150502  0006641040   AVFMJ50HNO21J   \n",
      "138679  150497  0006641040  A1HKYQOFC8ZZCH   \n",
      "...        ...         ...             ...   \n",
      "178141  193170  B009RSR8HO  A1TNEJA68OD7ZH   \n",
      "178143  193172  B009RSR8HO  A3JJTHP8T7A8LY   \n",
      "178147  193176  B009RSR8HO   A76WHW051R3KV   \n",
      "178146  193175  B009RSR8HO  A1A0PMN417S4V9   \n",
      "178144  193173  B009RSR8HO  A34TVEXPHSSPBV   \n",
      "178145  193174  B009RSR8HO   A4P6AN2L435PV   \n",
      "188339  204274  B009SA5NNW  A379KV6EQ66ZJR   \n",
      "188351  204286  B009SA5NNW   AVRU1Z8N59UZV   \n",
      "188349  204284  B009SA5NNW  A2SB8DPH72UOM7   \n",
      "188348  204283  B009SA5NNW  A2QXG1QOV4MTVL   \n",
      "188347  204282  B009SA5NNW  A373QMETEUKMS7   \n",
      "188346  204281  B009SA5NNW  A3CBCI8ZU6A9XM   \n",
      "188340  204275  B009SA5NNW  A1XPE0WCC6RYVO   \n",
      "188345  204280  B009SA5NNW   AI1G344L7R1TN   \n",
      "188343  204278  B009SA5NNW   A3M922QSBYYXR   \n",
      "188336  204271  B009SA5NNW  A133WGB2RLKB1T   \n",
      "188337  204272  B009SA5NNW   AWFA8N9IXELVH   \n",
      "188342  204277  B009SA5NNW  A2TWDT92R8VPTI   \n",
      "188338  204273  B009SA5NNW   AG4YGLLIE8BWP   \n",
      "188341  204276  B009SA5NNW  A3U0YIPTZX8DZ4   \n",
      "188344  204279  B009SA5NNW  A1PVBIUKEDNGVP   \n",
      "188350  204285  B009SA5NNW  A2XNO53D6J6322   \n",
      "173675  188389  B009SF0TN6  A1L0GWGRK4BYPT   \n",
      "208554  226019  B009SMKESO  A35K4XT7T1ZIFU   \n",
      "204727  221795  B009SR4OQ2  A32A6X5KCP7ARG   \n",
      "176791  191721  B009UOFTUI   AJVB004EB0MVK   \n",
      "1362      1478  B009UOFU20   AJVB004EB0MVK   \n",
      "303285  328482  B009UUS05I   ARL20DSHGVM1Y   \n",
      "5259      5703  B009WSNWC4   AMP7K1O84DH1T   \n",
      "302474  327601  B009WVB40S  A3ME78KVX31T21   \n",
      "\n",
      "                                             ProfileName  \\\n",
      "138706                                   shari zychinski   \n",
      "138688                                             Tracy   \n",
      "138689                             sally sue \"sally sue\"   \n",
      "138690                       Catherine Hallberg \"(Kate)\"   \n",
      "138691                                            Teresa   \n",
      "138693                                Laura Purdie Salas   \n",
      "138694                                         A. Conway   \n",
      "138695                                          tessarat   \n",
      "138696                                  Rosalind Matzner   \n",
      "138697                                           Lindylu   \n",
      "138687  Jason A. Teeple \"Nobody made a greater mistak...   \n",
      "138698                       Mary Jane Rogers \"Maedchen\"   \n",
      "138700                                       L. M. Kraus   \n",
      "138701                             Elizabeth H. Roessner   \n",
      "138702                    James L. Hammock \"Pucks Buddy\"   \n",
      "138703                                  Carol Carruthers   \n",
      "138704                                 Charles Ashbacher   \n",
      "138705             Elizabeth A. Curry \"Lovely Librarian\"   \n",
      "138707                                              Rick   \n",
      "138708                                       R. Mitchell   \n",
      "138709                               Matt Hetling \"Matt\"   \n",
      "138699                                       kevin clark   \n",
      "138686                         Les Sinclair \"book maven\"   \n",
      "138692                              Dr. Joshua  Grossman   \n",
      "138680                                       R. J. Wells   \n",
      "138677                                 Mother of 3 girls   \n",
      "138678     Gretchen Goodfellow \"Lover of children's lit\"   \n",
      "138685                     Her Royal Motherliness \"Nana\"   \n",
      "138684                                          Jane Doe   \n",
      "138679                        Maria Apolloni \"lanarossa\"   \n",
      "...                                                  ...   \n",
      "178141                                            morgan   \n",
      "178143                            Joanne Eklund \"Joanne\"   \n",
      "178147                                     Shawn \"Shawn\"   \n",
      "178146                               mamaelle \"mamaelle\"   \n",
      "178144                                              Beth   \n",
      "178145                                            romarc   \n",
      "188339                                             Craig   \n",
      "188351                                       LIsa Fresch   \n",
      "188349                                            Tim C.   \n",
      "188348                               Wordup \"Wordup2you\"   \n",
      "188347                                      Rebecca Wade   \n",
      "188346                                           Cody B.   \n",
      "188340                                          AnthonyT   \n",
      "188345                                Brian M. Schissler   \n",
      "188343                                   Jeannie Jordahl   \n",
      "188336                                     Temple Gordon   \n",
      "188337                                       No Pen Name   \n",
      "188342  d wilson \"Visitor from a Perpendicular Universe\"   \n",
      "188338                                          Miwintee   \n",
      "188341                                               vee   \n",
      "188344                                           Steve L   \n",
      "188350                                      dragenfli254   \n",
      "173675                                     Bety Robinson   \n",
      "208554                                       Inez Rivera   \n",
      "204727                                           sicamar   \n",
      "176791                                 D. Christofferson   \n",
      "1362                                   D. Christofferson   \n",
      "303285                                             Jamie   \n",
      "5259                                                ESTY   \n",
      "302474                                              K'la   \n",
      "\n",
      "        HelpfulnessNumerator  HelpfulnessDenominator  Score        Time  \\\n",
      "138706                     0                       0      1   939340800   \n",
      "138688                     1                       1      1  1194739200   \n",
      "138689                     1                       1      1  1191456000   \n",
      "138690                     1                       1      1  1076025600   \n",
      "138691                     3                       4      1  1018396800   \n",
      "138693                     0                       0      1  1344211200   \n",
      "138694                     0                       0      1  1338249600   \n",
      "138695                     0                       0      1  1325721600   \n",
      "138696                     0                       0      1  1313884800   \n",
      "138697                     0                       0      1  1303171200   \n",
      "138687                     1                       1      1  1210809600   \n",
      "138698                     0                       0      1  1293840000   \n",
      "138700                     0                       0      1  1288224000   \n",
      "138701                     0                       0      1  1256774400   \n",
      "138702                     0                       0      1  1256688000   \n",
      "138703                     0                       0      1  1243468800   \n",
      "138704                     0                       0      1  1219536000   \n",
      "138705                     0                       0      1  1096675200   \n",
      "138707                     1                       2      1  1025481600   \n",
      "138708                    11                      18      0  1129507200   \n",
      "138709                     0                       1      1  1108425600   \n",
      "138699                     0                       0      1  1291075200   \n",
      "138686                     1                       1      1  1212278400   \n",
      "138692                     0                       0      1  1348358400   \n",
      "138680                     2                       2      1  1176336000   \n",
      "138677                     3                       3      1  1173312000   \n",
      "138678                     3                       3      1  1111363200   \n",
      "138685                     1                       1      1  1233964800   \n",
      "138684                     1                       1      1  1324944000   \n",
      "138679                     2                       2      0  1334707200   \n",
      "...                      ...                     ...    ...         ...   \n",
      "178141                     0                       0      1  1350518400   \n",
      "178143                     0                       0      1  1350432000   \n",
      "178147                     0                       0      1  1350432000   \n",
      "178146                     0                       0      1  1350432000   \n",
      "178144                     0                       0      1  1350432000   \n",
      "178145                     0                       0      1  1350432000   \n",
      "188339                     0                       0      1  1347062400   \n",
      "188351                     0                       1      0  1349654400   \n",
      "188349                     0                       0      1  1317600000   \n",
      "188348                     0                       0      0  1321920000   \n",
      "188347                     0                       0      1  1327017600   \n",
      "188346                     0                       0      1  1328486400   \n",
      "188340                     0                       0      1  1344988800   \n",
      "188345                     0                       0      1  1332979200   \n",
      "188343                     0                       0      1  1335744000   \n",
      "188336                     1                       1      1  1321228800   \n",
      "188337                     0                       0      0  1351123200   \n",
      "188342                     0                       0      1  1337904000   \n",
      "188338                     0                       0      1  1351123200   \n",
      "188341                     0                       0      1  1339977600   \n",
      "188344                     0                       0      1  1333843200   \n",
      "188350                     0                       0      1  1317081600   \n",
      "173675                     0                       0      1  1350518400   \n",
      "208554                     0                       1      1  1304985600   \n",
      "204727                     1                       1      1  1350604800   \n",
      "176791                     0                       0      0  1345852800   \n",
      "1362                       0                       0      0  1345852800   \n",
      "303285                     0                       0      1  1331856000   \n",
      "5259                       0                       0      1  1351209600   \n",
      "302474                     0                       0      1  1351123200   \n",
      "\n",
      "                                                  Summary  \\\n",
      "138706                          EVERY book is educational   \n",
      "138688         Love the book, miss the hard cover version   \n",
      "138689                      chicken soup with rice months   \n",
      "138690             a good swingy rhythm for reading aloud   \n",
      "138691                    A great way to learn the months   \n",
      "138693                             Charming and childlike   \n",
      "138694                                         Must have.   \n",
      "138695                                          A classic   \n",
      "138696                             Chicken soup with Rice   \n",
      "138697                 One of our family's favorite books   \n",
      "138687                                          A classic   \n",
      "138698                                           Darling!   \n",
      "138700                                     love this book   \n",
      "138701                                 It's a great book!   \n",
      "138702                                         Great Gift   \n",
      "138703                                This book is great!   \n",
      "138704  Children will find it entertaining and a gener...   \n",
      "138705                              MMMM chicken soup....   \n",
      "138707  In December it will be, my snowman's anniversa...   \n",
      "138708                             awesome book poor size   \n",
      "138709                        Nice cadence, catchy rhymes   \n",
      "138699                                  good for children   \n",
      "138686                             Chicken Soup with Rice   \n",
      "138692                             Professional Mentoring   \n",
      "138680                                    A Gem of a Book   \n",
      "138677                                    Family favorite   \n",
      "138678            You'll use it once, you'll use it twice   \n",
      "138685                                     so fun to read   \n",
      "138684         Tiny little book, Wonderful little rhymes.   \n",
      "138679  The story is great, the softcover book is disa...   \n",
      "...                                                   ...   \n",
      "178141                        Fat to Skinny Zero Sweetner   \n",
      "178143                                               Zero   \n",
      "178147                          My #1 Sweetener of choice   \n",
      "178146                                 YAY! No Dextrose!!   \n",
      "178144                                           Love it!   \n",
      "178145                                     LOVE!!  LOVE!!   \n",
      "188339  Awesome Crisps!!! Arrived in just 8 days in Te...   \n",
      "188351                              Walkers Crisps 6 pack   \n",
      "188349                                               Yum!   \n",
      "188348                                        Stale Chips   \n",
      "188347                                         Excellent!   \n",
      "188346                                            Cody B.   \n",
      "188340                                          Excellent   \n",
      "188345                                           WOW.....   \n",
      "188343                                These were amazing!   \n",
      "188336                         Walkers smkey bacon crisps   \n",
      "188337                              Deceptive description   \n",
      "188342                            Tastes just like bacon!   \n",
      "188338               Makes me drool just thinking of them   \n",
      "188341                                          Re-Rating   \n",
      "188344                                   One Word, \"YUM!\"   \n",
      "188350                                            Delish!   \n",
      "173675              Amazing!! Great sauce for everything!   \n",
      "208554                                 Not a bad product.   \n",
      "204727                                      Awesome Taste   \n",
      "176791  weak coffee not good for a premium product and...   \n",
      "1362    weak coffee not good for a premium product and...   \n",
      "303285                                            Perfect   \n",
      "5259                                            DELICIOUS   \n",
      "302474                                             Tasty!   \n",
      "\n",
      "                                                     Text  \n",
      "138706  this witty little book makes my son laugh at l...  \n",
      "138688  I grew up reading these Sendak books, and watc...  \n",
      "138689  This is a fun way for children to learn their ...  \n",
      "138690  This is a great little book to read aloud- it ...  \n",
      "138691  This is a book of poetry about the months of t...  \n",
      "138693  A charming, rhyming book that describes the ci...  \n",
      "138694  I set aside at least an hour each day to read ...  \n",
      "138695  I remembered this book from my childhood and g...  \n",
      "138696  It's a great book with adorable illustrations....  \n",
      "138697  This book is a family favorite and was read to...  \n",
      "138687  Get the movie or sound track and sing along wi...  \n",
      "138698  The same author wrote \"Where the Wild Things A...  \n",
      "138700  Great book, perfect condition arrived in a sho...  \n",
      "138701  I've always loved chicken soup and rice. My la...  \n",
      "138702  This book was purchased as a birthday gift for...  \n",
      "138703  My 7 year old daughter brought this book home ...  \n",
      "138704  This book contains a collection of twelve shor...  \n",
      "138705  Summary:  A young boy describes the usefulness...  \n",
      "138707  My daughter loves all the \"Really Rosie\" books...  \n",
      "138708  This is one of the best children's books ever ...  \n",
      "138709  In June<br />I saw a charming group<br />of ro...  \n",
      "138699  Classic children's book, can't go wrong. I rea...  \n",
      "138686  A very entertaining rhyming story--cleaver and...  \n",
      "138692  TITLE: Chicken Soup with Rice<br />AUTHOR: Mau...  \n",
      "138680  This is a wonderful little book. I loved it 40...  \n",
      "138677  All of my children love this book.  My first g...  \n",
      "138678  One of my earliest memories is of this book.  ...  \n",
      "138685  This is my grand daughter's and my favorite bo...  \n",
      "138684  This copy is smaller than I expected (mostly b...  \n",
      "138679  I give five stars to the Maurice Sendak story....  \n",
      "...                                                   ...  \n",
      "178141  This is what I use when I'm baking instead of ...  \n",
      "178143  FTS Zero is the best sweetener I have ever tri...  \n",
      "178147  What a wonderful product! It's perfect to use ...  \n",
      "178146  Packets of powdered sweeteners usually have a ...  \n",
      "178144  I love this sweetener.  I use it to replace su...  \n",
      "178145  LOVE, LOVE this sweetener!!  I use it in all m...  \n",
      "188339  These crisps are my favorite.  I ordered these...  \n",
      "188351  I ordered this product on Amazon to get some o...  \n",
      "188349  Bought these the other day while I was in Cana...  \n",
      "188348  Item came promptly however the crisps were 3 m...  \n",
      "188347  The crisps are awesome. Give me English crisps...  \n",
      "188346  I loved the chips they were AWESOME!!! but tha...  \n",
      "188340  These are the best flavor chips, my daughter a...  \n",
      "188345  This could possibly be the best tasting chip I...  \n",
      "188343  This chips kind of reminded me of bacon bits. ...  \n",
      "188336  These are amazing chips but they just cost too...  \n",
      "188337  On Oct 9 I ordered from a different vendor the...  \n",
      "188342  I had a bag of these during a trip to London. ...  \n",
      "188338  The Brit's have out done us. The flavor is sup...  \n",
      "188341  Okay, I jumped the gun, because they were send...  \n",
      "188344  If you like salt and vinegar crisps (chips), b...  \n",
      "188350  I had these wonderful chips in Ireland a few y...  \n",
      "173675  You have to try this sauce to believe it! It s...  \n",
      "208554  This review is for the boneless ham. A little ...  \n",
      "204727  I bought this Hazelnut Paste (Nocciola Spread)...  \n",
      "176791  This coffee supposedly is premium, it tastes w...  \n",
      "1362    This coffee supposedly is premium, it tastes w...  \n",
      "303285  The basket was the perfect sympathy gift when ...  \n",
      "5259    Purchased this product at a local store in NY ...  \n",
      "302474  I purchased this to send to my son who's away ...  \n",
      "\n"
     ]
    },
    {
     "name": "stdout",
     "output_type": "stream",
     "text": [
      "[525814 rows x 10 columns]\n"
     ]
    }
   ],
   "source": [
    "#Sorting data according to ProductId in ascending order\n",
    "sorted_data=filtered_data.sort_values('ProductId', axis=0, ascending=True, inplace=False, kind='quicksort', na_position='last')\n",
    "print(sorted_data)"
   ]
  },
  {
   "cell_type": "code",
   "execution_count": 4,
   "metadata": {
    "colab": {},
    "colab_type": "code",
    "id": "hYd69x4KMQve"
   },
   "outputs": [
    {
     "data": {
      "text/plain": [
       "(364173, 10)"
      ]
     },
     "execution_count": 4,
     "metadata": {},
     "output_type": "execute_result"
    }
   ],
   "source": [
    "#Deduplication of entries\n",
    "final=sorted_data.drop_duplicates(subset={\"UserId\",\"ProfileName\",\"Time\",\"Text\"}, keep='first', inplace=False)\n",
    "final.shape"
   ]
  },
  {
   "cell_type": "code",
   "execution_count": 5,
   "metadata": {
    "colab": {},
    "colab_type": "code",
    "id": "_UVH2UNwMQvi"
   },
   "outputs": [
    {
     "data": {
      "text/plain": [
       "69.25890143662969"
      ]
     },
     "execution_count": 5,
     "metadata": {},
     "output_type": "execute_result"
    }
   ],
   "source": [
    "#Checking to see how much % of data still remains\n",
    "(final['Id'].size)/(filtered_data['Id'].size)*100"
   ]
  },
  {
   "cell_type": "markdown",
   "metadata": {
    "colab_type": "text",
    "id": "GeOy9IcuMQvk"
   },
   "source": [
    "<b>Observation:-</b> It was also seen that in two rows given below the value of HelpfulnessNumerator is greater than HelpfulnessDenominator which is not practically possible hence these two rows too are removed from calcualtions"
   ]
  },
  {
   "cell_type": "code",
   "execution_count": 6,
   "metadata": {
    "colab": {},
    "colab_type": "code",
    "id": "EDD5FsuGMQvm"
   },
   "outputs": [
    {
     "data": {
      "text/html": [
       "<div>\n",
       "<style scoped>\n",
       "    .dataframe tbody tr th:only-of-type {\n",
       "        vertical-align: middle;\n",
       "    }\n",
       "\n",
       "    .dataframe tbody tr th {\n",
       "        vertical-align: top;\n",
       "    }\n",
       "\n",
       "    .dataframe thead th {\n",
       "        text-align: right;\n",
       "    }\n",
       "</style>\n",
       "<table border=\"1\" class=\"dataframe\">\n",
       "  <thead>\n",
       "    <tr style=\"text-align: right;\">\n",
       "      <th></th>\n",
       "      <th>Id</th>\n",
       "      <th>ProductId</th>\n",
       "      <th>UserId</th>\n",
       "      <th>ProfileName</th>\n",
       "      <th>HelpfulnessNumerator</th>\n",
       "      <th>HelpfulnessDenominator</th>\n",
       "      <th>Score</th>\n",
       "      <th>Time</th>\n",
       "      <th>Summary</th>\n",
       "      <th>Text</th>\n",
       "    </tr>\n",
       "  </thead>\n",
       "  <tbody>\n",
       "    <tr>\n",
       "      <th>0</th>\n",
       "      <td>64422</td>\n",
       "      <td>B000MIDROQ</td>\n",
       "      <td>A161DK06JJMCYF</td>\n",
       "      <td>J. E. Stephens \"Jeanne\"</td>\n",
       "      <td>3</td>\n",
       "      <td>1</td>\n",
       "      <td>5</td>\n",
       "      <td>1224892800</td>\n",
       "      <td>Bought This for My Son at College</td>\n",
       "      <td>My son loves spaghetti so I didn't hesitate or...</td>\n",
       "    </tr>\n",
       "    <tr>\n",
       "      <th>1</th>\n",
       "      <td>44737</td>\n",
       "      <td>B001EQ55RW</td>\n",
       "      <td>A2V0I904FH7ABY</td>\n",
       "      <td>Ram</td>\n",
       "      <td>3</td>\n",
       "      <td>2</td>\n",
       "      <td>4</td>\n",
       "      <td>1212883200</td>\n",
       "      <td>Pure cocoa taste with crunchy almonds inside</td>\n",
       "      <td>It was almost a 'love at first bite' - the per...</td>\n",
       "    </tr>\n",
       "  </tbody>\n",
       "</table>\n",
       "</div>"
      ],
      "text/plain": [
       "      Id   ProductId          UserId              ProfileName  \\\n",
       "0  64422  B000MIDROQ  A161DK06JJMCYF  J. E. Stephens \"Jeanne\"   \n",
       "1  44737  B001EQ55RW  A2V0I904FH7ABY                      Ram   \n",
       "\n",
       "   HelpfulnessNumerator  HelpfulnessDenominator  Score        Time  \\\n",
       "0                     3                       1      5  1224892800   \n",
       "1                     3                       2      4  1212883200   \n",
       "\n",
       "                                        Summary  \\\n",
       "0             Bought This for My Son at College   \n",
       "1  Pure cocoa taste with crunchy almonds inside   \n",
       "\n",
       "                                                Text  \n",
       "0  My son loves spaghetti so I didn't hesitate or...  \n",
       "1  It was almost a 'love at first bite' - the per...  "
      ]
     },
     "execution_count": 6,
     "metadata": {},
     "output_type": "execute_result"
    }
   ],
   "source": [
    "display= pd.read_sql_query(\"\"\"\n",
    "SELECT *\n",
    "FROM Reviews\n",
    "WHERE Score != 3 AND Id=44737 OR Id=64422\n",
    "ORDER BY ProductID\n",
    "\"\"\", con)\n",
    "\n",
    "display.head()"
   ]
  },
  {
   "cell_type": "code",
   "execution_count": 7,
   "metadata": {
    "colab": {},
    "colab_type": "code",
    "id": "kThrWN9FMQvq"
   },
   "outputs": [],
   "source": [
    "#keeping only the data which has helpfullness denominator greater than helpfulness numerator\n",
    "final=final[final.HelpfulnessNumerator<=final.HelpfulnessDenominator]"
   ]
  },
  {
   "cell_type": "code",
   "execution_count": 8,
   "metadata": {
    "colab": {},
    "colab_type": "code",
    "id": "lvw544BEMQvs"
   },
   "outputs": [
    {
     "name": "stdout",
     "output_type": "stream",
     "text": [
      "(364171, 10)\n"
     ]
    },
    {
     "data": {
      "text/plain": [
       "1    307061\n",
       "0     57110\n",
       "Name: Score, dtype: int64"
      ]
     },
     "execution_count": 8,
     "metadata": {},
     "output_type": "execute_result"
    }
   ],
   "source": [
    "#Before starting the next phase of preprocessing lets see the number of entries left\n",
    "print(final.shape)\n",
    "\n",
    "#How many positive and negative reviews are present in our dataset?\n",
    "final['Score'].value_counts()"
   ]
  },
  {
   "cell_type": "markdown",
   "metadata": {
    "colab_type": "text",
    "id": "3-ZDuet8MQvw"
   },
   "source": [
    "## 7.2.3  Text Preprocessing: Stemming, stop-word removal and Lemmatization.\n",
    "\n",
    "Now that we have finished deduplication our data requires some preprocessing before we go on further with analysis and making the prediction model.\n",
    "\n",
    "Hence in the Preprocessing phase we do the following in the order below:-\n",
    "\n",
    "1. Begin by removing the html tags\n",
    "2. Remove any punctuations or limited set of special characters like , or . or # etc.\n",
    "3. Check if the word is made up of english letters and is not alpha-numeric\n",
    "4. Check to see if the length of the word is greater than 2 (as it was researched that there is no adjective in 2-letters)\n",
    "5. Convert the word to lowercase\n",
    "6. Remove Stopwords\n",
    "7. Finally Snowball Stemming the word (it was obsereved to be better than Porter Stemming)<br>\n",
    "\n",
    "After which we collect the words used to describe positive and negative reviews"
   ]
  },
  {
   "cell_type": "code",
   "execution_count": 9,
   "metadata": {
    "colab": {},
    "colab_type": "code",
    "id": "I2NRwIj6MQvz",
    "scrolled": true
   },
   "outputs": [
    {
     "name": "stdout",
     "output_type": "stream",
     "text": [
      "6\n",
      "I set aside at least an hour each day to read to my son (3 y/o). At this point, I consider myself a connoisseur of children's books and this is one of the best. Santa Clause put this under the tree. Since then, we've read it perpetually and he loves it.<br /><br />First, this book taught him the months of the year.<br /><br />Second, it's a pleasure to read. Well suited to 1.5 y/o old to 4+.<br /><br />Very few children's books are worth owning. Most should be borrowed from the library. This book, however, deserves a permanent spot on your shelf. Sendak's best.\n"
     ]
    }
   ],
   "source": [
    "# find sentences containing HTML tags\n",
    "import re\n",
    "i=0;\n",
    "for sent in final['Text'].values:\n",
    "     if (len(re.findall('<.*?>', sent))):\n",
    "        print(i)\n",
    "        print(sent)\n",
    "        break;\n",
    "     i += 1;"
   ]
  },
  {
   "cell_type": "code",
   "execution_count": 10,
   "metadata": {
    "colab": {},
    "colab_type": "code",
    "id": "hSYsO2neMQv2"
   },
   "outputs": [
    {
     "name": "stdout",
     "output_type": "stream",
     "text": [
      "{'you', 'where', 'about', 'hers', \"that'll\", 'couldn', 'but', 'did', 'and', 't', 'd', 'been', 'some', 'no', 'because', 'ma', 'down', 'into', 'when', 'himself', \"doesn't\", 'if', 'again', 'on', 'these', 'me', \"didn't\", 'am', 'are', 'there', 'until', 'what', 'same', 'will', 'does', 'our', 'before', \"won't\", 'myself', 'isn', 'that', 'after', 'its', 'll', 'all', 'too', 'between', \"shan't\", 'off', 'most', 'below', 'them', 'of', 'it', 'my', 'won', \"mightn't\", \"you'll\", 'has', 'so', 'out', \"shouldn't\", 'this', 'an', 'o', 'under', 'your', 'doesn', 'each', \"wouldn't\", \"it's\", 'nor', 'only', 'by', 'other', 'few', 'own', \"isn't\", 'having', 'i', 'just', 'then', 'which', 'she', 'more', \"hadn't\", 'as', 'theirs', 'over', 'up', 'her', \"you've\", 'for', 'hadn', 'those', 'themselves', 'the', 'were', 'now', 'didn', 'y', 'very', \"hasn't\", 'who', 'itself', 're', 'do', 's', 'further', \"needn't\", 'why', 'mustn', 'had', 'herself', 'yours', 'shan', 'haven', 'needn', 'he', \"should've\", 'ourselves', 'being', 'to', 'doing', 'is', 'at', 'in', 'we', \"mustn't\", 'while', 'such', 'their', 'above', 'during', 'or', 'they', 've', 'whom', 'with', 'ours', 'through', 'hasn', \"you're\", 'how', 'weren', \"she's\", \"don't\", 'any', \"wasn't\", 'once', 'a', 'was', \"haven't\", 'from', 'be', 'don', 'not', 'm', 'than', 'have', 'yourselves', \"weren't\", 'against', 'both', 'wouldn', 'yourself', \"couldn't\", 'shouldn', 'wasn', 'him', 'aren', 'ain', 'his', \"aren't\", \"you'd\", 'here', 'can', 'should', 'mightn'}\n",
      "************************************\n",
      "tasti\n"
     ]
    }
   ],
   "source": [
    "\n",
    "stop = set(stopwords.words('english')) #set of stopwords\n",
    "sno = nltk.stem.SnowballStemmer('english') #initialising the snowball stemmer\n",
    "\n",
    "def cleanhtml(sentence): #function to clean the word of any html-tags\n",
    "    cleanr = re.compile('<.*?>')\n",
    "    cleantext = re.sub(cleanr, ' ', sentence)\n",
    "    return cleantext\n",
    "def cleanpunc(sentence): #function to clean the word of any punctuation or special characters\n",
    "    cleaned = re.sub(r'[?|!|\\'|\"|#]',r'',sentence)\n",
    "    cleaned = re.sub(r'[.|,|)|(|\\|/]',r' ',cleaned)\n",
    "    return  cleaned\n",
    "print(stop)\n",
    "print('************************************')\n",
    "print(sno.stem('tasty'))"
   ]
  },
  {
   "cell_type": "code",
   "execution_count": 11,
   "metadata": {
    "colab": {},
    "colab_type": "code",
    "id": "BUGzVaKbMQv5"
   },
   "outputs": [],
   "source": [
    "#Code for implementing step-by-step the checks mentioned in the pre-processing phase\n",
    "# this code takes a while to run as it needs to run on 500k sentences.\n",
    "if not os.path.isfile('final.sqlite'):\n",
    "    final_string=[]\n",
    "    all_positive_words=[] # store words from +ve reviews here\n",
    "    all_negative_words=[] # store words from -ve reviews here.\n",
    "    for i, sent in enumerate(tqdm(final['Text'].values)):\n",
    "        filtered_sentence=[]\n",
    "        #print(sent);\n",
    "        sent=cleanhtml(sent) # remove HTMl tags\n",
    "        for w in sent.split():\n",
    "            # we have used cleanpunc(w).split(), one more split function here because consider w=\"abc.def\", cleanpunc(w) will return \"abc def\"\n",
    "            # if we dont use .split() function then we will be considring \"abc def\" as a single word, but if you use .split() function we will get \"abc\", \"def\"\n",
    "            for cleaned_words in cleanpunc(w).split():\n",
    "                if((cleaned_words.isalpha()) & (len(cleaned_words)>2)):    \n",
    "                    if(cleaned_words.lower() not in stop):\n",
    "                        s=(sno.stem(cleaned_words.lower())).encode('utf8')\n",
    "                        filtered_sentence.append(s)\n",
    "                        if (final['Score'].values)[i] == 1: \n",
    "                            all_positive_words.append(s) #list of all words used to describe positive reviews\n",
    "                        if(final['Score'].values)[i] == 0:\n",
    "                            all_negative_words.append(s) #list of all words used to describe negative reviews reviews\n",
    "        str1 = b\" \".join(filtered_sentence) #final string of cleaned words\n",
    "        #print(\"***********************************************************************\")\n",
    "        final_string.append(str1)\n",
    "\n",
    "    #############---- storing the data into .sqlite file ------########################\n",
    "    final['CleanedText']=final_string #adding a column of CleanedText which displays the data after pre-processing of the review \n",
    "    final['CleanedText']=final['CleanedText'].str.decode(\"utf-8\")\n",
    "        # store final table into an SQlLite table for future.\n",
    "    conn = sqlite3.connect('final.sqlite')\n",
    "    c=conn.cursor()# helps in fetching the data\n",
    "    conn.text_factory = str #helps in returning string objects for text data type, otherwise default value is unicode\n",
    "    #Write records stored in a DataFrame to a SQL database.\n",
    "    final.to_sql('Reviews', conn,  schema=None, if_exists='replace', \\\n",
    "                 index=True, index_label=None, chunksize=None, dtype=None)\n",
    "    conn.close()\n",
    "    print(final.shape())\n",
    "    \n",
    "    with open('positive_words.pkl', 'wb') as f: #opening file and writing the bytes\n",
    "        pickle.dump(all_positive_words, f)      #to put data all_positive_words from file f,\n",
    "    with open('negitive_words.pkl', 'wb') as f:\n",
    "        pickle.dump(all_negative_words, f)"
   ]
  },
  {
   "cell_type": "code",
   "execution_count": 12,
   "metadata": {
    "colab": {},
    "colab_type": "code",
    "id": "bU88yTG9MQv-",
    "scrolled": false
   },
   "outputs": [],
   "source": [
    "if os.path.isfile('final.sqlite'):\n",
    "    conn = sqlite3.connect('final.sqlite')\n",
    "    final = pd.read_sql_query(\"\"\" SELECT * FROM Reviews WHERE Score != 3 \"\"\", conn)\n",
    "    conn.close()\n",
    "else:\n",
    "    print(\"Please the above cell\")"
   ]
  },
  {
   "cell_type": "code",
   "execution_count": 13,
   "metadata": {},
   "outputs": [
    {
     "data": {
      "text/plain": [
       "(364171,)"
      ]
     },
     "execution_count": 13,
     "metadata": {},
     "output_type": "execute_result"
    }
   ],
   "source": [
    "Score=final['Score']\n",
    "Score.shape"
   ]
  },
  {
   "cell_type": "code",
   "execution_count": 14,
   "metadata": {},
   "outputs": [],
   "source": [
    "#Taking sample 5k positive and sample 5k negative\n",
    "data_p=final[final['Score']==1].sample(n = 5000)\n",
    "data_n=final[final['Score']==0].sample(n = 5000)\n",
    "final_10k=pd.concat([data_p, data_n])"
   ]
  },
  {
   "cell_type": "code",
   "execution_count": 15,
   "metadata": {},
   "outputs": [
    {
     "name": "stdout",
     "output_type": "stream",
     "text": [
      "(10000, 12)\n",
      "(10000,)\n"
     ]
    }
   ],
   "source": [
    "Score_10k=final_10k['Score']\n",
    "print(final_10k.shape)\n",
    "print(Score_10k.shape)"
   ]
  },
  {
   "cell_type": "markdown",
   "metadata": {
    "colab_type": "text",
    "id": "hXA02Hw0MQv_"
   },
   "source": [
    "# [7.2.2] Bag of Words (BoW)"
   ]
  },
  {
   "cell_type": "code",
   "execution_count": 16,
   "metadata": {
    "colab": {},
    "colab_type": "code",
    "id": "giCwNM_rMQwA"
   },
   "outputs": [
    {
     "name": "stdout",
     "output_type": "stream",
     "text": [
      "the type of count vectorizer  <class 'scipy.sparse.csr.csr_matrix'>\n",
      "the shape of out text BOW vectorizer  (10000, 13606)\n",
      "the number of unique words  13606\n"
     ]
    }
   ],
   "source": [
    "#BoW\n",
    "count_vect = CountVectorizer() #in scikit-learn\n",
    "final_counts = count_vect.fit_transform(final_10k['CleanedText'].values)\n",
    "print(\"the type of count vectorizer \",type(final_counts))\n",
    "print(\"the shape of out text BOW vectorizer \",final_counts.get_shape())\n",
    "print(\"the number of unique words \", final_counts.get_shape()[1])"
   ]
  },
  {
   "cell_type": "markdown",
   "metadata": {
    "colab_type": "text",
    "id": "0Zhvc5AMMQwD"
   },
   "source": [
    "## [7.2.4] Bi-Grams and n-Grams.\n",
    "\n",
    "**Motivation**\n",
    "\n",
    "Now that we have our list of words describing positive and negative reviews lets analyse them.<br>\n",
    "\n",
    "We begin analysis by getting the frequency distribution of the words as shown below"
   ]
  },
  {
   "cell_type": "code",
   "execution_count": 17,
   "metadata": {
    "colab": {},
    "colab_type": "code",
    "id": "dmhJ1DOlMQwD"
   },
   "outputs": [
    {
     "data": {
      "image/png": "[encoded data removed]",
      "text/plain": [
       "<Figure size 432x288 with 1 Axes>"
      ]
     },
     "metadata": {},
     "output_type": "display_data"
    },
    {
     "data": {
      "image/png": "[encoded data removed]",
      "text/plain": [
       "<Figure size 432x288 with 1 Axes>"
      ]
     },
     "metadata": {},
     "output_type": "display_data"
    },
    {
     "name": "stdout",
     "output_type": "stream",
     "text": [
      "Most Common Positive Words :  [(b'like', 139429), (b'tast', 129047), (b'good', 112766), (b'flavor', 109624), (b'love', 107357), (b'use', 103888), (b'great', 103870), (b'one', 96726), (b'product', 91033), (b'tri', 86791), (b'tea', 83888), (b'coffe', 78814), (b'make', 75107), (b'get', 72125), (b'food', 64802), (b'would', 55568), (b'time', 55264), (b'buy', 54198), (b'realli', 52715), (b'eat', 52004)]\n",
      "Most Common Negative Words :  [(b'tast', 34585), (b'like', 32330), (b'product', 28218), (b'one', 20569), (b'flavor', 19575), (b'would', 17972), (b'tri', 17753), (b'use', 15302), (b'good', 15041), (b'coffe', 14716), (b'get', 13786), (b'buy', 13752), (b'order', 12871), (b'food', 12754), (b'dont', 11877), (b'tea', 11665), (b'even', 11085), (b'box', 10844), (b'amazon', 10073), (b'make', 9840)]\n"
     ]
    }
   ],
   "source": [
    "with open('positive_words.pkl', 'rb') as f:\n",
    "    all_positive_words = pickle.load(f)\n",
    "with open('negitive_words.pkl', 'rb') as f:\n",
    "    all_negative_words = pickle.load(f)\n",
    "    \n",
    "freq_dist_positive=nltk.FreqDist(all_positive_words)\n",
    "freq_dist_negative=nltk.FreqDist(all_negative_words)\n",
    "nltk.FreqDist(all_positive_words).plot(50, cumulative=False)\n",
    "nltk.FreqDist(all_negative_words).plot(50, cumulative=False)\n",
    "\n",
    "print(\"Most Common Positive Words : \",freq_dist_positive.most_common(20))\n",
    "print(\"Most Common Negative Words : \",freq_dist_negative.most_common(20))"
   ]
  },
  {
   "cell_type": "markdown",
   "metadata": {
    "colab_type": "text",
    "id": "UUrdD4vNMQwH"
   },
   "source": [
    "<b>Observation:-</b> From the above it can be seen that the most common positive and the negative words overlap for eg. 'like' could be used as 'not like' etc. <br>\n",
    "So, it is a good idea to consider pairs of consequent words (bi-grams) or q sequnce of n consecutive words (n-grams)"
   ]
  },
  {
   "cell_type": "code",
   "execution_count": 18,
   "metadata": {
    "colab": {},
    "colab_type": "code",
    "id": "7sDVOf4yMQwI"
   },
   "outputs": [
    {
     "name": "stdout",
     "output_type": "stream",
     "text": [
      "the type of count vectorizer  <class 'scipy.sparse.csr.csr_matrix'>\n",
      "the shape of out text BOW vectorizer  (10000, 248605)\n",
      "the number of unique words including both unigrams and bigrams  248605\n"
     ]
    }
   ],
   "source": [
    "#bi-gram, tri-gram and n-gram\n",
    "\n",
    "#removing stop words like \"not\" should be avoided before building n-grams\n",
    "count_vect = CountVectorizer(ngram_range=(1,2) ) #in scikit-learn\n",
    "final_bigram_counts = count_vect.fit_transform(final_10k['CleanedText'].values)\n",
    "print(\"the type of count vectorizer \",type(final_bigram_counts))\n",
    "print(\"the shape of out text BOW vectorizer \",final_bigram_counts.get_shape())\n",
    "print(\"the number of unique words including both unigrams and bigrams \", final_bigram_counts.get_shape()[1])"
   ]
  },
  {
   "cell_type": "markdown",
   "metadata": {
    "colab_type": "text",
    "id": "hdx-Cb0AMQwM"
   },
   "source": [
    "# [7.2.5] TF-IDF"
   ]
  },
  {
   "cell_type": "code",
   "execution_count": 19,
   "metadata": {
    "colab": {},
    "colab_type": "code",
    "id": "P-EUwU9nMQwN"
   },
   "outputs": [
    {
     "name": "stdout",
     "output_type": "stream",
     "text": [
      "the type of count vectorizer  <class 'scipy.sparse.csr.csr_matrix'>\n",
      "the shape of out text TFIDF vectorizer  (10000, 248605)\n",
      "the number of unique words including both unigrams and bigrams  248605\n"
     ]
    }
   ],
   "source": [
    "tf_idf_vect = TfidfVectorizer(ngram_range=(1,2))\n",
    "final_tf_idf = tf_idf_vect.fit_transform(final_10k['CleanedText'].values)\n",
    "print(\"the type of count vectorizer \",type(final_tf_idf))\n",
    "print(\"the shape of out text TFIDF vectorizer \",final_tf_idf.get_shape())\n",
    "print(\"the number of unique words including both unigrams and bigrams \", final_tf_idf.get_shape()[1])"
   ]
  },
  {
   "cell_type": "code",
   "execution_count": 20,
   "metadata": {
    "colab": {},
    "colab_type": "code",
    "id": "lOELCSqEMQwQ"
   },
   "outputs": [
    {
     "name": "stdout",
     "output_type": "stream",
     "text": [
      "some sample features(unique words in the corpus) ['arent food', 'arent fresh', 'arent full', 'arent given', 'arent go', 'arent good', 'arent greasi', 'arent ground', 'arent healthi', 'arent heavi']\n"
     ]
    }
   ],
   "source": [
    "features = tf_idf_vect.get_feature_names()\n",
    "print(\"some sample features(unique words in the corpus)\",features[10000:10010])"
   ]
  },
  {
   "cell_type": "code",
   "execution_count": 21,
   "metadata": {
    "colab": {},
    "colab_type": "code",
    "id": "aRjaZzGdMQwT"
   },
   "outputs": [],
   "source": [
    "# source: https://buhrmann.github.io/tfidf-analysis.html\n",
    "def top_tfidf_feats(row, features, top_n=25):\n",
    "    ''' Get top n tfidf values in row and return them with their corresponding feature names.'''\n",
    "    topn_ids = np.argsort(row)[::-1][:top_n]\n",
    "    top_feats = [(features[i], row[i]) for i in topn_ids]\n",
    "    df = pd.DataFrame(top_feats)\n",
    "    df.columns = ['feature', 'tfidf']\n",
    "    return df\n",
    "\n",
    "top_tfidf = top_tfidf_feats(final_tf_idf[1,:].toarray()[0],features,25)"
   ]
  },
  {
   "cell_type": "code",
   "execution_count": 22,
   "metadata": {
    "colab": {},
    "colab_type": "code",
    "id": "ayhSkBo8MQwV"
   },
   "outputs": [
    {
     "data": {
      "text/html": [
       "<div>\n",
       "<style scoped>\n",
       "    .dataframe tbody tr th:only-of-type {\n",
       "        vertical-align: middle;\n",
       "    }\n",
       "\n",
       "    .dataframe tbody tr th {\n",
       "        vertical-align: top;\n",
       "    }\n",
       "\n",
       "    .dataframe thead th {\n",
       "        text-align: right;\n",
       "    }\n",
       "</style>\n",
       "<table border=\"1\" class=\"dataframe\">\n",
       "  <thead>\n",
       "    <tr style=\"text-align: right;\">\n",
       "      <th></th>\n",
       "      <th>feature</th>\n",
       "      <th>tfidf</th>\n",
       "    </tr>\n",
       "  </thead>\n",
       "  <tbody>\n",
       "    <tr>\n",
       "      <th>0</th>\n",
       "      <td>pasta realli</td>\n",
       "      <td>0.299529</td>\n",
       "    </tr>\n",
       "    <tr>\n",
       "      <th>1</th>\n",
       "      <td>pasta</td>\n",
       "      <td>0.266834</td>\n",
       "    </tr>\n",
       "    <tr>\n",
       "      <th>2</th>\n",
       "      <td>realli enjoy</td>\n",
       "      <td>0.208757</td>\n",
       "    </tr>\n",
       "    <tr>\n",
       "      <th>3</th>\n",
       "      <td>daughter</td>\n",
       "      <td>0.174740</td>\n",
       "    </tr>\n",
       "    <tr>\n",
       "      <th>4</th>\n",
       "      <td>husband</td>\n",
       "      <td>0.162440</td>\n",
       "    </tr>\n",
       "    <tr>\n",
       "      <th>5</th>\n",
       "      <td>flour pasta</td>\n",
       "      <td>0.161529</td>\n",
       "    </tr>\n",
       "    <tr>\n",
       "      <th>6</th>\n",
       "      <td>daughter gluten</td>\n",
       "      <td>0.161529</td>\n",
       "    </tr>\n",
       "    <tr>\n",
       "      <th>7</th>\n",
       "      <td>sensit love</td>\n",
       "      <td>0.161529</td>\n",
       "    </tr>\n",
       "    <tr>\n",
       "      <th>8</th>\n",
       "      <td>delici daughter</td>\n",
       "      <td>0.161529</td>\n",
       "    </tr>\n",
       "    <tr>\n",
       "      <th>9</th>\n",
       "      <td>hold form</td>\n",
       "      <td>0.161529</td>\n",
       "    </tr>\n",
       "    <tr>\n",
       "      <th>10</th>\n",
       "      <td>pasta delici</td>\n",
       "      <td>0.161529</td>\n",
       "    </tr>\n",
       "    <tr>\n",
       "      <th>11</th>\n",
       "      <td>differ unbleach</td>\n",
       "      <td>0.161529</td>\n",
       "    </tr>\n",
       "    <tr>\n",
       "      <th>12</th>\n",
       "      <td>enjoy hope</td>\n",
       "      <td>0.154647</td>\n",
       "    </tr>\n",
       "    <tr>\n",
       "      <th>13</th>\n",
       "      <td>daughter realli</td>\n",
       "      <td>0.154647</td>\n",
       "    </tr>\n",
       "    <tr>\n",
       "      <th>14</th>\n",
       "      <td>husband daughter</td>\n",
       "      <td>0.154647</td>\n",
       "    </tr>\n",
       "    <tr>\n",
       "      <th>15</th>\n",
       "      <td>realli hold</td>\n",
       "      <td>0.154647</td>\n",
       "    </tr>\n",
       "    <tr>\n",
       "      <th>16</th>\n",
       "      <td>mushi like</td>\n",
       "      <td>0.154647</td>\n",
       "    </tr>\n",
       "    <tr>\n",
       "      <th>17</th>\n",
       "      <td>form husband</td>\n",
       "      <td>0.154647</td>\n",
       "    </tr>\n",
       "    <tr>\n",
       "      <th>18</th>\n",
       "      <td>realli</td>\n",
       "      <td>0.151211</td>\n",
       "    </tr>\n",
       "    <tr>\n",
       "      <th>19</th>\n",
       "      <td>enjoy husband</td>\n",
       "      <td>0.149765</td>\n",
       "    </tr>\n",
       "    <tr>\n",
       "      <th>20</th>\n",
       "      <td>get mushi</td>\n",
       "      <td>0.149765</td>\n",
       "    </tr>\n",
       "    <tr>\n",
       "      <th>21</th>\n",
       "      <td>unbleach flour</td>\n",
       "      <td>0.149765</td>\n",
       "    </tr>\n",
       "    <tr>\n",
       "      <th>22</th>\n",
       "      <td>unbleach</td>\n",
       "      <td>0.142883</td>\n",
       "    </tr>\n",
       "    <tr>\n",
       "      <th>23</th>\n",
       "      <td>husband say</td>\n",
       "      <td>0.142883</td>\n",
       "    </tr>\n",
       "    <tr>\n",
       "      <th>24</th>\n",
       "      <td>love doesnt</td>\n",
       "      <td>0.142883</td>\n",
       "    </tr>\n",
       "  </tbody>\n",
       "</table>\n",
       "</div>"
      ],
      "text/plain": [
       "             feature     tfidf\n",
       "0       pasta realli  0.299529\n",
       "1              pasta  0.266834\n",
       "2       realli enjoy  0.208757\n",
       "3           daughter  0.174740\n",
       "4            husband  0.162440\n",
       "5        flour pasta  0.161529\n",
       "6    daughter gluten  0.161529\n",
       "7        sensit love  0.161529\n",
       "8    delici daughter  0.161529\n",
       "9          hold form  0.161529\n",
       "10      pasta delici  0.161529\n",
       "11   differ unbleach  0.161529\n",
       "12        enjoy hope  0.154647\n",
       "13   daughter realli  0.154647\n",
       "14  husband daughter  0.154647\n",
       "15       realli hold  0.154647\n",
       "16        mushi like  0.154647\n",
       "17      form husband  0.154647\n",
       "18            realli  0.151211\n",
       "19     enjoy husband  0.149765\n",
       "20         get mushi  0.149765\n",
       "21    unbleach flour  0.149765\n",
       "22          unbleach  0.142883\n",
       "23       husband say  0.142883\n",
       "24       love doesnt  0.142883"
      ]
     },
     "execution_count": 22,
     "metadata": {},
     "output_type": "execute_result"
    }
   ],
   "source": [
    "top_tfidf"
   ]
  },
  {
   "cell_type": "markdown",
   "metadata": {
    "colab_type": "text",
    "id": "FvLejEvqMQwY"
   },
   "source": [
    "# [7.2.6] Word2Vec"
   ]
  },
  {
   "cell_type": "code",
   "execution_count": 27,
   "metadata": {
    "colab": {},
    "colab_type": "code",
    "id": "xri0AfSJMQwe"
   },
   "outputs": [],
   "source": [
    "# Train your own Word2Vec model using your own text corpus\n",
    "i=0\n",
    "list_of_sent=[]\n",
    "for sent in final_10k['CleanedText'].values:\n",
    "    list_of_sent.append(sent.split())"
   ]
  },
  {
   "cell_type": "code",
   "execution_count": 28,
   "metadata": {
    "colab": {},
    "colab_type": "code",
    "id": "eRUcB7DlMQwi"
   },
   "outputs": [
    {
     "name": "stdout",
     "output_type": "stream",
     "text": [
      "bon produit poivr avec beaucoup goût parfum les plat san être fort recommand vivement dommag pas trouver produit franc\n",
      "*****************************************************************\n",
      "['bon', 'produit', 'poivr', 'avec', 'beaucoup', 'goût', 'parfum', 'les', 'plat', 'san', 'être', 'fort', 'recommand', 'vivement', 'dommag', 'pas', 'trouver', 'produit', 'franc']\n"
     ]
    }
   ],
   "source": [
    "print(final_10k['CleanedText'].values[2])\n",
    "print(\"*****************************************************************\")\n",
    "print(list_of_sent[2])"
   ]
  },
  {
   "cell_type": "code",
   "execution_count": 29,
   "metadata": {
    "colab": {},
    "colab_type": "code",
    "id": "xA_ZepwsMQwl"
   },
   "outputs": [],
   "source": [
    "# min_count = 5 considers only words that occured atleast 5 times\n",
    "w2v_model=Word2Vec(list_of_sent,min_count=5,size=50, workers=8)"
   ]
  },
  {
   "cell_type": "code",
   "execution_count": 30,
   "metadata": {
    "colab": {},
    "colab_type": "code",
    "id": "as5kes83MQwn"
   },
   "outputs": [
    {
     "name": "stdout",
     "output_type": "stream",
     "text": [
      "number of words that occured minimum 5 times  4713\n",
      "sample words  ['great', 'tast', 'coffe', 'strong', 'weak', 'one', 'pod', 'suffici', 'morn', 'mug', 'cheaper', 'subscript', 'favorit', 'pasta', 'delici', 'daughter', 'gluten', 'sensit', 'love', 'doesnt', 'get', 'mushi', 'like', 'rice', 'realli', 'hold', 'form', 'husband', 'enjoy', 'say', 'cant', 'tell', 'differ', 'unbleach', 'flour', 'hope', 'bon', 'san', 'franc', 'bag', 'rees', 'peanut', 'butter', 'egg', 'may', 'slight', 'smaller', 'individu', 'wrap', 'still']\n"
     ]
    }
   ],
   "source": [
    "w2v_words = list(w2v_model.wv.vocab)\n",
    "print(\"number of words that occured minimum 5 times \",len(w2v_words))\n",
    "print(\"sample words \", w2v_words[0:50])"
   ]
  },
  {
   "cell_type": "code",
   "execution_count": 31,
   "metadata": {
    "colab": {},
    "colab_type": "code",
    "id": "X1EVyAnEMQwo"
   },
   "outputs": [
    {
     "data": {
      "text/plain": [
       "[('crunchi', 0.9696117043495178),\n",
       " ('banana', 0.9627013206481934),\n",
       " ('over', 0.959102988243103),\n",
       " ('salti', 0.9491393566131592),\n",
       " ('creami', 0.9469794034957886),\n",
       " ('strawberri', 0.9440248608589172),\n",
       " ('chocolatey', 0.9414207339286804),\n",
       " ('gritti', 0.9404871463775635),\n",
       " ('delici', 0.9383053779602051),\n",
       " ('chewi', 0.9371926188468933)]"
      ]
     },
     "execution_count": 31,
     "metadata": {},
     "output_type": "execute_result"
    }
   ],
   "source": [
    "w2v_model.wv.most_similar('tasti')"
   ]
  },
  {
   "cell_type": "code",
   "execution_count": 32,
   "metadata": {
    "colab": {},
    "colab_type": "code",
    "id": "WeKWZN4eMQws",
    "scrolled": true
   },
   "outputs": [
    {
     "data": {
      "text/plain": [
       "[('spici', 0.8542677164077759),\n",
       " ('weird', 0.8482377529144287),\n",
       " ('aw', 0.8454083800315857),\n",
       " ('textur', 0.844629168510437),\n",
       " ('nasti', 0.8283417820930481),\n",
       " ('bland', 0.8270395994186401),\n",
       " ('salti', 0.8246541023254395),\n",
       " ('prefer', 0.8243337869644165),\n",
       " ('doesnt', 0.8231185674667358),\n",
       " ('isnt', 0.809087336063385)]"
      ]
     },
     "execution_count": 32,
     "metadata": {},
     "output_type": "execute_result"
    }
   ],
   "source": [
    "w2v_model.wv.most_similar('like')"
   ]
  },
  {
   "cell_type": "markdown",
   "metadata": {
    "colab_type": "text",
    "id": "V1eebHVHMQwv"
   },
   "source": [
    "# [7.2.7] Avg W2V, TFIDF-W2V"
   ]
  },
  {
   "cell_type": "code",
   "execution_count": 33,
   "metadata": {
    "colab": {},
    "colab_type": "code",
    "id": "TMrT0BciMQww"
   },
   "outputs": [
    {
     "name": "stderr",
     "output_type": "stream",
     "text": [
      "100%|██████████████████████████████████████████████████████████████████████████| 10000/10000 [00:08<00:00, 1146.79it/s]\n"
     ]
    },
    {
     "name": "stdout",
     "output_type": "stream",
     "text": [
      "10000\n",
      "50\n"
     ]
    }
   ],
   "source": [
    "\n",
    "# average Word2Vec\n",
    "# compute average word2vec for each review.\n",
    "sent_vectors = []; # the avg-w2v for each sentence/review is stored in this list\n",
    "for sent in tqdm(list_of_sent): # for each review/sentence\n",
    "    sent_vec = np.zeros(50) # as word vectors are of zero length\n",
    "    cnt_words =0; # num of words with a valid vector in the sentence/review\n",
    "    for word in sent: # for each word in a review/sentence\n",
    "        if word in w2v_words:\n",
    "            vec = w2v_model.wv[word]\n",
    "            sent_vec += vec\n",
    "            cnt_words += 1\n",
    "    if cnt_words != 0:\n",
    "        sent_vec /= cnt_words\n",
    "    sent_vectors.append(sent_vec)\n",
    "print(len(sent_vectors))\n",
    "print(len(sent_vectors[0]))"
   ]
  },
  {
   "cell_type": "code",
   "execution_count": 34,
   "metadata": {},
   "outputs": [
    {
     "data": {
      "text/plain": [
       "(10000, 50)"
      ]
     },
     "execution_count": 34,
     "metadata": {},
     "output_type": "execute_result"
    }
   ],
   "source": [
    "#standardization\n",
    "from sklearn.preprocessing import StandardScaler\n",
    "std = StandardScaler(with_mean = False)\n",
    "std_data = std.fit_transform(sent_vectors)\n",
    "std_data.shape"
   ]
  },
  {
   "cell_type": "code",
   "execution_count": 35,
   "metadata": {},
   "outputs": [
    {
     "data": {
      "image/png": "[encoded data removed]",
      "text/plain": [
       "<Figure size 483.875x432 with 1 Axes>"
      ]
     },
     "metadata": {},
     "output_type": "display_data"
    }
   ],
   "source": [
    "# tsne\n",
    "from sklearn.manifold import TSNE\n",
    "model = TSNE(n_components = 2, perplexity = 50)\n",
    "tsne_data = model.fit_transform(std_data)\n",
    "\n",
    "tsne_data = np.vstack((tsne_data.T, Score_10k)).T\n",
    "tsne_df = pd.DataFrame(data = tsne_data, columns = (\"dim1\", \"dim2\", \"score\"))\n",
    "sns.FacetGrid(tsne_df, hue = \"score\", size = 6).map(plt.scatter, \"dim1\", \"dim2\").add_legend()\n",
    "plt.title(\"TSNE for WORD2VEC\")\n",
    "plt.show()"
   ]
  },
  {
   "cell_type": "code",
   "execution_count": 36,
   "metadata": {
    "colab": {},
    "colab_type": "code",
    "id": "EM2v872OMQwy"
   },
   "outputs": [],
   "source": [
    "# S = [\"abc def pqr\", \"def def def abc\", \"pqr pqr def\"]\n",
    "model = TfidfVectorizer()\n",
    "tf_idf_matrix = model.fit_transform(final_10k['CleanedText'].values)\n",
    "# we are converting a dictionary with word as a key, and the idf as a value\n",
    "dictionary = dict(zip(model.get_feature_names(), list(model.idf_)))"
   ]
  },
  {
   "cell_type": "code",
   "execution_count": 37,
   "metadata": {
    "colab": {},
    "colab_type": "code",
    "id": "Z0Kg_dbxMQw0",
    "scrolled": true
   },
   "outputs": [
    {
     "name": "stderr",
     "output_type": "stream",
     "text": [
      "100%|███████████████████████████████████████████████████████████████████████████| 10000/10000 [00:11<00:00, 880.90it/s]\n"
     ]
    }
   ],
   "source": [
    "# TF-IDF weighted Word2Vec\n",
    "tfidf_feat = model.get_feature_names() # tfidf words/col-names\n",
    "# final_tf_idf is the sparse matrix with row= sentence, col=word and cell_val = tfidf\n",
    "\n",
    "tfidf_sent_vectors = []; # the tfidf-w2v for each sentence/review is stored in this list\n",
    "row=0;\n",
    "for sent in tqdm(list_of_sent): # for each review/sentence \n",
    "    sent_vec = np.zeros(50) # as word vectors are of zero length\n",
    "    weight_sum =0; # num of words with a valid vector in the sentence/review\n",
    "    for word in sent: # for each word in a review/sentence\n",
    "        if word in w2v_words:\n",
    "            vec = w2v_model.wv[word]\n",
    "#             tf_idf = tf_idf_matrix[row, tfidf_feat.index(word)]\n",
    "            # to reduce the computation we are \n",
    "            # dictionary[word] = idf value of word in whole courpus\n",
    "            # sent.count(word) = tf valeus of word in this review\n",
    "            tf_idf = dictionary[word]*(sent.count(word)/len(sent))\n",
    "            sent_vec += (vec * tf_idf)\n",
    "            weight_sum += tf_idf\n",
    "    if weight_sum != 0:\n",
    "        sent_vec /= weight_sum\n",
    "    tfidf_sent_vectors.append(sent_vec)\n",
    "    row += 1"
   ]
  },
  {
   "cell_type": "code",
   "execution_count": 38,
   "metadata": {
    "scrolled": true
   },
   "outputs": [
    {
     "data": {
      "image/png": "[encoded data removed]",
      "text/plain": [
       "<Figure size 483.875x432 with 1 Axes>"
      ]
     },
     "metadata": {},
     "output_type": "display_data"
    }
   ],
   "source": [
    "# tsne\n",
    "from sklearn.manifold import TSNE\n",
    "model = TSNE(n_components = 2, perplexity = 50)\n",
    "tsne_data = model.fit_transform(std_data)\n",
    "\n",
    "tsne_data = np.vstack((tsne_data.T, Score_10k)).T\n",
    "tsne_df = pd.DataFrame(data = tsne_data, columns = (\"dim1\", \"dim2\", \"score\"))\n",
    "sns.FacetGrid(tsne_df, hue = \"score\", size = 6).map(plt.scatter, \"dim1\", \"dim2\").add_legend()\n",
    "plt.title(\"TSNE for TF-IDF weighted Word2Vec \")\n",
    "plt.show()"
   ]
  },
  {
   "cell_type": "markdown",
   "metadata": {},
   "source": [
    "## observations:\n",
    "\n",
    "By looking at all tsne representation, none of these gives well separated positive and negative reviews."
   ]
  }
 ],
 "metadata": {
  "colab": {
   "collapsed_sections": [
    "0Zhvc5AMMQwD"
   ],
   "name": "Amazon Fine Food Reviews Analysis.ipynb",
   "provenance": [],
   "version": "0.3.2"
  },
  "kernelspec": {
   "display_name": "Python 3",
   "language": "python",
   "name": "python3"
  },
  "language_info": {
   "codemirror_mode": {
    "name": "ipython",
    "version": 3
   },
   "file_extension": ".py",
   "mimetype": "text/x-python",
   "name": "python",
   "nbconvert_exporter": "python",
   "pygments_lexer": "ipython3",
   "version": "3.6.4"
  }
 },
 "nbformat": 4,
 "nbformat_minor": 1
}
